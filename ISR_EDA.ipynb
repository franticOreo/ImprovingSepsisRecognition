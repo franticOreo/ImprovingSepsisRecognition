{
 "cells": [
  {
   "cell_type": "code",
   "execution_count": 20,
   "id": "280f5cba",
   "metadata": {},
   "outputs": [],
   "source": [
    "import csv\n",
    "import pandas as pd\n",
    "import numpy as np\n",
    "import os\n",
    "\n",
    "pd.set_option('display.max_columns', None)\n",
    "pd.set_option('display.max_rows', None)"
   ]
  },
  {
   "cell_type": "code",
   "execution_count": 21,
   "id": "2212bd5c",
   "metadata": {},
   "outputs": [],
   "source": [
    "a_train = os.listdir('./data/training/')\n",
    "b_train = os.listdir('./data/training_setB/')"
   ]
  },
  {
   "cell_type": "code",
   "execution_count": null,
   "id": "e0b376c6",
   "metadata": {},
   "outputs": [],
   "source": []
  },
  {
   "cell_type": "code",
   "execution_count": 22,
   "id": "2bed9ee0",
   "metadata": {},
   "outputs": [],
   "source": [
    "with open('sepsis.csv', 'w') as outfile:\n",
    "    writer = csv.writer(outfile, lineterminator='\\n')\n",
    "\n",
    "    for i, name in enumerate(a_train):\n",
    "        with open(f'./data/training/{name}','r') as infile:\n",
    "            reader = csv.reader(infile, delimiter='|')\n",
    "            all = []\n",
    "\n",
    "            # ignore header\n",
    "            if i == 0:\n",
    "                row = next(reader)\n",
    "                row.append('Patient_id')\n",
    "                row.append('time')\n",
    "                all.append(row)\n",
    "            else:\n",
    "                row = next(reader)\n",
    "\n",
    "            for j, row in enumerate(reader):\n",
    "                row.append(i)\n",
    "                row.append(j)\n",
    "                all.append(row)\n",
    "\n",
    "            writer.writerows(all)\n",
    " \n",
    "\n",
    "    num = i \n",
    "\n",
    "\n",
    "    for i, name in enumerate(b_train):\n",
    "        if i < 10000:\n",
    "            num = num + 1\n",
    "\n",
    "        with open(f'./data/training_setB/{name}', 'r') as infile:\n",
    "            all = []\n",
    "            reader = csv.reader(infile, delimiter='|')\n",
    "            row = next(reader)\n",
    "\n",
    "            for j, row in enumerate(reader):\n",
    "                row.append(num)\n",
    "                row.append(j)\n",
    "                all.append(row)\n",
    "\n",
    "            writer.writerows(all)"
   ]
  },
  {
   "cell_type": "code",
   "execution_count": 32,
   "id": "bb7a6da9",
   "metadata": {},
   "outputs": [
    {
     "name": "stdout",
     "output_type": "stream",
     "text": [
      "<class 'pandas.core.frame.DataFrame'>\n",
      "RangeIndex: 1552210 entries, 0 to 1552209\n",
      "Data columns (total 43 columns):\n",
      " #   Column            Non-Null Count    Dtype  \n",
      "---  ------            --------------    -----  \n",
      " 0   HR                1398811 non-null  float64\n",
      " 1   O2Sat             1349474 non-null  float64\n",
      " 2   Temp              525226 non-null   float64\n",
      " 3   SBP               1325945 non-null  float64\n",
      " 4   MAP               1358940 non-null  float64\n",
      " 5   DBP               1065656 non-null  float64\n",
      " 6   Resp              1313875 non-null  float64\n",
      " 7   EtCO2             57636 non-null    float64\n",
      " 8   BaseExcess        84145 non-null    float64\n",
      " 9   HCO3              65028 non-null    float64\n",
      " 10  FiO2              129365 non-null   float64\n",
      " 11  pH                107573 non-null   float64\n",
      " 12  PaCO2             86301 non-null    float64\n",
      " 13  SaO2              53561 non-null    float64\n",
      " 14  AST               25183 non-null    float64\n",
      " 15  BUN               106568 non-null   float64\n",
      " 16  Alkalinephos      24941 non-null    float64\n",
      " 17  Calcium           91331 non-null    float64\n",
      " 18  Chloride          70466 non-null    float64\n",
      " 19  Creatinine        94616 non-null    float64\n",
      " 20  Bilirubin_direct  2990 non-null     float64\n",
      " 21  Glucose           265516 non-null   float64\n",
      " 22  Lactate           41446 non-null    float64\n",
      " 23  Magnesium         97951 non-null    float64\n",
      " 24  Phosphate         62301 non-null    float64\n",
      " 25  Potassium         144525 non-null   float64\n",
      " 26  Bilirubin_total   23141 non-null    float64\n",
      " 27  TroponinI         14781 non-null    float64\n",
      " 28  Hct               137433 non-null   float64\n",
      " 29  Hgb               114591 non-null   float64\n",
      " 30  PTT               45699 non-null    float64\n",
      " 31  WBC               99447 non-null    float64\n",
      " 32  Fibrinogen        10242 non-null    float64\n",
      " 33  Platelets         92209 non-null    float64\n",
      " 34  Age               1552210 non-null  float64\n",
      " 35  Gender            1552210 non-null  int64  \n",
      " 36  Unit1             940250 non-null   float64\n",
      " 37  Unit2             940250 non-null   float64\n",
      " 38  HospAdmTime       1552202 non-null  float64\n",
      " 39  ICULOS            1552210 non-null  int64  \n",
      " 40  SepsisLabel       1552210 non-null  int64  \n",
      " 41  Patient_id        1552210 non-null  int64  \n",
      " 42  time              1552210 non-null  int64  \n",
      "dtypes: float64(38), int64(5)\n",
      "memory usage: 509.2 MB\n"
     ]
    }
   ],
   "source": [
    "df = pd.read_csv('sepsis.csv')\n",
    "df.info()"
   ]
  },
  {
   "cell_type": "code",
   "execution_count": null,
   "id": "4d95973e",
   "metadata": {},
   "outputs": [],
   "source": [
    "df[df['Bilirubin_direct'] != None]"
   ]
  },
  {
   "cell_type": "code",
   "execution_count": 30,
   "id": "9d2b1bc0",
   "metadata": {},
   "outputs": [
    {
     "data": {
      "text/plain": [
       "0"
      ]
     },
     "execution_count": 30,
     "metadata": {},
     "output_type": "execute_result"
    }
   ],
   "source": [
    "len(df)"
   ]
  },
  {
   "cell_type": "code",
   "execution_count": null,
   "id": "2fc58fda",
   "metadata": {},
   "outputs": [],
   "source": []
  }
 ],
 "metadata": {
  "kernelspec": {
   "display_name": "Python 3",
   "language": "python",
   "name": "python3"
  },
  "language_info": {
   "codemirror_mode": {
    "name": "ipython",
    "version": 3
   },
   "file_extension": ".py",
   "mimetype": "text/x-python",
   "name": "python",
   "nbconvert_exporter": "python",
   "pygments_lexer": "ipython3",
   "version": "3.7.6"
  }
 },
 "nbformat": 4,
 "nbformat_minor": 5
}
