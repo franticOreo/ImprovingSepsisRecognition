{
 "cells": [
  {
   "cell_type": "code",
   "execution_count": 15,
   "id": "f6e085ea",
   "metadata": {},
   "outputs": [],
   "source": [
    "import pandas as pd\n",
    "import numpy as np\n",
    "from tqdm.notebook import tqdm\n",
    "import random\n",
    "from sklearn.model_selection import train_test_split\n",
    "from pathlib import Path\n",
    "\n",
    "\n",
    "pd.set_option('display.max_columns', None)\n",
    "pd.set_option('display.max_rows', None)"
   ]
  },
  {
   "cell_type": "code",
   "execution_count": 17,
   "id": "d554d0a9",
   "metadata": {},
   "outputs": [],
   "source": [
    "import joblib\n",
    "a = joblib.load('./pickle/dataset_test.pkl')\n",
    "b = joblib.load('./pickle/dataset_train.pkl')\n",
    "c = joblib.load('./pickle/validation_dataset.pkl')\n",
    "\n",
    "a.to_csv('dataset_test.csv')\n",
    "b.to_csv('dataset_train.csv')\n",
    "c.to_csv('validation_dataset.csv')"
   ]
  },
  {
   "cell_type": "code",
   "execution_count": 18,
   "id": "b0c65df6",
   "metadata": {},
   "outputs": [
    {
     "data": {
      "application/vnd.jupyter.widget-view+json": {
       "model_id": "0287e138d3dd4d91bf3726c27ce9aeca",
       "version_major": 2,
       "version_minor": 0
      },
      "text/plain": [
       "  0%|          | 0/3 [00:00<?, ?it/s]"
      ]
     },
     "metadata": {},
     "output_type": "display_data"
    },
    {
     "data": {
      "application/vnd.jupyter.widget-view+json": {
       "model_id": "58acc8c30d61487289c3fd03775b6c31",
       "version_major": 2,
       "version_minor": 0
      },
      "text/plain": [
       "  0%|          | 0/2 [00:00<?, ?it/s]"
      ]
     },
     "metadata": {},
     "output_type": "display_data"
    },
    {
     "data": {
      "application/vnd.jupyter.widget-view+json": {
       "model_id": "5c4c2a7557004a4fa7c2b06593fdbb5d",
       "version_major": 2,
       "version_minor": 0
      },
      "text/plain": [
       "  0%|          | 0/3 [00:00<?, ?it/s]"
      ]
     },
     "metadata": {},
     "output_type": "display_data"
    },
    {
     "data": {
      "application/vnd.jupyter.widget-view+json": {
       "model_id": "7a17859c011042ee9f395d2873f14a5b",
       "version_major": 2,
       "version_minor": 0
      },
      "text/plain": [
       "  0%|          | 0/2 [00:00<?, ?it/s]"
      ]
     },
     "metadata": {},
     "output_type": "display_data"
    },
    {
     "data": {
      "application/vnd.jupyter.widget-view+json": {
       "model_id": "1205c0f8de0946068375b3b5bb20a42f",
       "version_major": 2,
       "version_minor": 0
      },
      "text/plain": [
       "  0%|          | 0/3 [00:00<?, ?it/s]"
      ]
     },
     "metadata": {},
     "output_type": "display_data"
    },
    {
     "ename": "KeyError",
     "evalue": "\"['SepsisLabel'] not found in axis\"",
     "output_type": "error",
     "traceback": [
      "\u001b[0;31m---------------------------------------------------------------------------\u001b[0m",
      "\u001b[0;31mKeyError\u001b[0m                                  Traceback (most recent call last)",
      "\u001b[0;32m<ipython-input-18-f3e3f11a3192>\u001b[0m in \u001b[0;36m<module>\u001b[0;34m\u001b[0m\n\u001b[1;32m     13\u001b[0m data_ewm = [\n\u001b[1;32m     14\u001b[0m     \u001b[0mpd\u001b[0m\u001b[0;34m.\u001b[0m\u001b[0mconcat\u001b[0m\u001b[0;34m(\u001b[0m\u001b[0;34m[\u001b[0m\u001b[0md\u001b[0m\u001b[0;34m.\u001b[0m\u001b[0mffill\u001b[0m\u001b[0;34m(\u001b[0m\u001b[0;34m)\u001b[0m\u001b[0;34m,\u001b[0m \u001b[0md\u001b[0m\u001b[0;34m.\u001b[0m\u001b[0mdrop\u001b[0m\u001b[0;34m(\u001b[0m\u001b[0;34m'SepsisLabel'\u001b[0m\u001b[0;34m,\u001b[0m \u001b[0maxis\u001b[0m\u001b[0;34m=\u001b[0m\u001b[0;34m'columns'\u001b[0m\u001b[0;34m)\u001b[0m\u001b[0;34m.\u001b[0m\u001b[0mewm\u001b[0m\u001b[0;34m(\u001b[0m\u001b[0malpha\u001b[0m\u001b[0;34m=\u001b[0m\u001b[0;36m0.25\u001b[0m\u001b[0;34m)\u001b[0m\u001b[0;34m.\u001b[0m\u001b[0mmean\u001b[0m\u001b[0;34m(\u001b[0m\u001b[0;34m)\u001b[0m\u001b[0;34m.\u001b[0m\u001b[0madd_prefix\u001b[0m\u001b[0;34m(\u001b[0m\u001b[0;34m'ewm_'\u001b[0m\u001b[0;34m)\u001b[0m\u001b[0;34m]\u001b[0m\u001b[0;34m,\u001b[0m \u001b[0maxis\u001b[0m\u001b[0;34m=\u001b[0m\u001b[0;34m'columns'\u001b[0m\u001b[0;34m)\u001b[0m\u001b[0;34m\u001b[0m\u001b[0;34m\u001b[0m\u001b[0m\n\u001b[0;32m---> 15\u001b[0;31m     \u001b[0;32mfor\u001b[0m \u001b[0md\u001b[0m \u001b[0;32min\u001b[0m \u001b[0mtqdm\u001b[0m\u001b[0;34m(\u001b[0m\u001b[0mdata\u001b[0m\u001b[0;34m)\u001b[0m\u001b[0;34m\u001b[0m\u001b[0;34m\u001b[0m\u001b[0m\n\u001b[0m\u001b[1;32m     16\u001b[0m ]\n\u001b[1;32m     17\u001b[0m data_validation_ewm = [\n",
      "\u001b[0;32m<ipython-input-18-f3e3f11a3192>\u001b[0m in \u001b[0;36m<listcomp>\u001b[0;34m(.0)\u001b[0m\n\u001b[1;32m     13\u001b[0m data_ewm = [\n\u001b[1;32m     14\u001b[0m     \u001b[0mpd\u001b[0m\u001b[0;34m.\u001b[0m\u001b[0mconcat\u001b[0m\u001b[0;34m(\u001b[0m\u001b[0;34m[\u001b[0m\u001b[0md\u001b[0m\u001b[0;34m.\u001b[0m\u001b[0mffill\u001b[0m\u001b[0;34m(\u001b[0m\u001b[0;34m)\u001b[0m\u001b[0;34m,\u001b[0m \u001b[0md\u001b[0m\u001b[0;34m.\u001b[0m\u001b[0mdrop\u001b[0m\u001b[0;34m(\u001b[0m\u001b[0;34m'SepsisLabel'\u001b[0m\u001b[0;34m,\u001b[0m \u001b[0maxis\u001b[0m\u001b[0;34m=\u001b[0m\u001b[0;34m'columns'\u001b[0m\u001b[0;34m)\u001b[0m\u001b[0;34m.\u001b[0m\u001b[0mewm\u001b[0m\u001b[0;34m(\u001b[0m\u001b[0malpha\u001b[0m\u001b[0;34m=\u001b[0m\u001b[0;36m0.25\u001b[0m\u001b[0;34m)\u001b[0m\u001b[0;34m.\u001b[0m\u001b[0mmean\u001b[0m\u001b[0;34m(\u001b[0m\u001b[0;34m)\u001b[0m\u001b[0;34m.\u001b[0m\u001b[0madd_prefix\u001b[0m\u001b[0;34m(\u001b[0m\u001b[0;34m'ewm_'\u001b[0m\u001b[0;34m)\u001b[0m\u001b[0;34m]\u001b[0m\u001b[0;34m,\u001b[0m \u001b[0maxis\u001b[0m\u001b[0;34m=\u001b[0m\u001b[0;34m'columns'\u001b[0m\u001b[0;34m)\u001b[0m\u001b[0;34m\u001b[0m\u001b[0;34m\u001b[0m\u001b[0m\n\u001b[0;32m---> 15\u001b[0;31m     \u001b[0;32mfor\u001b[0m \u001b[0md\u001b[0m \u001b[0;32min\u001b[0m \u001b[0mtqdm\u001b[0m\u001b[0;34m(\u001b[0m\u001b[0mdata\u001b[0m\u001b[0;34m)\u001b[0m\u001b[0;34m\u001b[0m\u001b[0;34m\u001b[0m\u001b[0m\n\u001b[0m\u001b[1;32m     16\u001b[0m ]\n\u001b[1;32m     17\u001b[0m data_validation_ewm = [\n",
      "\u001b[0;32m~/opt/anaconda3/envs/CITS5508/lib/python3.7/site-packages/pandas/core/frame.py\u001b[0m in \u001b[0;36mdrop\u001b[0;34m(self, labels, axis, index, columns, level, inplace, errors)\u001b[0m\n\u001b[1;32m   4313\u001b[0m             \u001b[0mlevel\u001b[0m\u001b[0;34m=\u001b[0m\u001b[0mlevel\u001b[0m\u001b[0;34m,\u001b[0m\u001b[0;34m\u001b[0m\u001b[0;34m\u001b[0m\u001b[0m\n\u001b[1;32m   4314\u001b[0m             \u001b[0minplace\u001b[0m\u001b[0;34m=\u001b[0m\u001b[0minplace\u001b[0m\u001b[0;34m,\u001b[0m\u001b[0;34m\u001b[0m\u001b[0;34m\u001b[0m\u001b[0m\n\u001b[0;32m-> 4315\u001b[0;31m             \u001b[0merrors\u001b[0m\u001b[0;34m=\u001b[0m\u001b[0merrors\u001b[0m\u001b[0;34m,\u001b[0m\u001b[0;34m\u001b[0m\u001b[0;34m\u001b[0m\u001b[0m\n\u001b[0m\u001b[1;32m   4316\u001b[0m         )\n\u001b[1;32m   4317\u001b[0m \u001b[0;34m\u001b[0m\u001b[0m\n",
      "\u001b[0;32m~/opt/anaconda3/envs/CITS5508/lib/python3.7/site-packages/pandas/core/generic.py\u001b[0m in \u001b[0;36mdrop\u001b[0;34m(self, labels, axis, index, columns, level, inplace, errors)\u001b[0m\n\u001b[1;32m   4151\u001b[0m         \u001b[0;32mfor\u001b[0m \u001b[0maxis\u001b[0m\u001b[0;34m,\u001b[0m \u001b[0mlabels\u001b[0m \u001b[0;32min\u001b[0m \u001b[0maxes\u001b[0m\u001b[0;34m.\u001b[0m\u001b[0mitems\u001b[0m\u001b[0;34m(\u001b[0m\u001b[0;34m)\u001b[0m\u001b[0;34m:\u001b[0m\u001b[0;34m\u001b[0m\u001b[0;34m\u001b[0m\u001b[0m\n\u001b[1;32m   4152\u001b[0m             \u001b[0;32mif\u001b[0m \u001b[0mlabels\u001b[0m \u001b[0;32mis\u001b[0m \u001b[0;32mnot\u001b[0m \u001b[0;32mNone\u001b[0m\u001b[0;34m:\u001b[0m\u001b[0;34m\u001b[0m\u001b[0;34m\u001b[0m\u001b[0m\n\u001b[0;32m-> 4153\u001b[0;31m                 \u001b[0mobj\u001b[0m \u001b[0;34m=\u001b[0m \u001b[0mobj\u001b[0m\u001b[0;34m.\u001b[0m\u001b[0m_drop_axis\u001b[0m\u001b[0;34m(\u001b[0m\u001b[0mlabels\u001b[0m\u001b[0;34m,\u001b[0m \u001b[0maxis\u001b[0m\u001b[0;34m,\u001b[0m \u001b[0mlevel\u001b[0m\u001b[0;34m=\u001b[0m\u001b[0mlevel\u001b[0m\u001b[0;34m,\u001b[0m \u001b[0merrors\u001b[0m\u001b[0;34m=\u001b[0m\u001b[0merrors\u001b[0m\u001b[0;34m)\u001b[0m\u001b[0;34m\u001b[0m\u001b[0;34m\u001b[0m\u001b[0m\n\u001b[0m\u001b[1;32m   4154\u001b[0m \u001b[0;34m\u001b[0m\u001b[0m\n\u001b[1;32m   4155\u001b[0m         \u001b[0;32mif\u001b[0m \u001b[0minplace\u001b[0m\u001b[0;34m:\u001b[0m\u001b[0;34m\u001b[0m\u001b[0;34m\u001b[0m\u001b[0m\n",
      "\u001b[0;32m~/opt/anaconda3/envs/CITS5508/lib/python3.7/site-packages/pandas/core/generic.py\u001b[0m in \u001b[0;36m_drop_axis\u001b[0;34m(self, labels, axis, level, errors)\u001b[0m\n\u001b[1;32m   4186\u001b[0m                 \u001b[0mnew_axis\u001b[0m \u001b[0;34m=\u001b[0m \u001b[0maxis\u001b[0m\u001b[0;34m.\u001b[0m\u001b[0mdrop\u001b[0m\u001b[0;34m(\u001b[0m\u001b[0mlabels\u001b[0m\u001b[0;34m,\u001b[0m \u001b[0mlevel\u001b[0m\u001b[0;34m=\u001b[0m\u001b[0mlevel\u001b[0m\u001b[0;34m,\u001b[0m \u001b[0merrors\u001b[0m\u001b[0;34m=\u001b[0m\u001b[0merrors\u001b[0m\u001b[0;34m)\u001b[0m\u001b[0;34m\u001b[0m\u001b[0;34m\u001b[0m\u001b[0m\n\u001b[1;32m   4187\u001b[0m             \u001b[0;32melse\u001b[0m\u001b[0;34m:\u001b[0m\u001b[0;34m\u001b[0m\u001b[0;34m\u001b[0m\u001b[0m\n\u001b[0;32m-> 4188\u001b[0;31m                 \u001b[0mnew_axis\u001b[0m \u001b[0;34m=\u001b[0m \u001b[0maxis\u001b[0m\u001b[0;34m.\u001b[0m\u001b[0mdrop\u001b[0m\u001b[0;34m(\u001b[0m\u001b[0mlabels\u001b[0m\u001b[0;34m,\u001b[0m \u001b[0merrors\u001b[0m\u001b[0;34m=\u001b[0m\u001b[0merrors\u001b[0m\u001b[0;34m)\u001b[0m\u001b[0;34m\u001b[0m\u001b[0;34m\u001b[0m\u001b[0m\n\u001b[0m\u001b[1;32m   4189\u001b[0m             \u001b[0mresult\u001b[0m \u001b[0;34m=\u001b[0m \u001b[0mself\u001b[0m\u001b[0;34m.\u001b[0m\u001b[0mreindex\u001b[0m\u001b[0;34m(\u001b[0m\u001b[0;34m**\u001b[0m\u001b[0;34m{\u001b[0m\u001b[0maxis_name\u001b[0m\u001b[0;34m:\u001b[0m \u001b[0mnew_axis\u001b[0m\u001b[0;34m}\u001b[0m\u001b[0;34m)\u001b[0m\u001b[0;34m\u001b[0m\u001b[0;34m\u001b[0m\u001b[0m\n\u001b[1;32m   4190\u001b[0m \u001b[0;34m\u001b[0m\u001b[0m\n",
      "\u001b[0;32m~/opt/anaconda3/envs/CITS5508/lib/python3.7/site-packages/pandas/core/indexes/base.py\u001b[0m in \u001b[0;36mdrop\u001b[0;34m(self, labels, errors)\u001b[0m\n\u001b[1;32m   5590\u001b[0m         \u001b[0;32mif\u001b[0m \u001b[0mmask\u001b[0m\u001b[0;34m.\u001b[0m\u001b[0many\u001b[0m\u001b[0;34m(\u001b[0m\u001b[0;34m)\u001b[0m\u001b[0;34m:\u001b[0m\u001b[0;34m\u001b[0m\u001b[0;34m\u001b[0m\u001b[0m\n\u001b[1;32m   5591\u001b[0m             \u001b[0;32mif\u001b[0m \u001b[0merrors\u001b[0m \u001b[0;34m!=\u001b[0m \u001b[0;34m\"ignore\"\u001b[0m\u001b[0;34m:\u001b[0m\u001b[0;34m\u001b[0m\u001b[0;34m\u001b[0m\u001b[0m\n\u001b[0;32m-> 5592\u001b[0;31m                 \u001b[0;32mraise\u001b[0m \u001b[0mKeyError\u001b[0m\u001b[0;34m(\u001b[0m\u001b[0;34mf\"{labels[mask]} not found in axis\"\u001b[0m\u001b[0;34m)\u001b[0m\u001b[0;34m\u001b[0m\u001b[0;34m\u001b[0m\u001b[0m\n\u001b[0m\u001b[1;32m   5593\u001b[0m             \u001b[0mindexer\u001b[0m \u001b[0;34m=\u001b[0m \u001b[0mindexer\u001b[0m\u001b[0;34m[\u001b[0m\u001b[0;34m~\u001b[0m\u001b[0mmask\u001b[0m\u001b[0;34m]\u001b[0m\u001b[0;34m\u001b[0m\u001b[0;34m\u001b[0m\u001b[0m\n\u001b[1;32m   5594\u001b[0m         \u001b[0;32mreturn\u001b[0m \u001b[0mself\u001b[0m\u001b[0;34m.\u001b[0m\u001b[0mdelete\u001b[0m\u001b[0;34m(\u001b[0m\u001b[0mindexer\u001b[0m\u001b[0;34m)\u001b[0m\u001b[0;34m\u001b[0m\u001b[0;34m\u001b[0m\u001b[0m\n",
      "\u001b[0;31mKeyError\u001b[0m: \"['SepsisLabel'] not found in axis\""
     ]
    }
   ],
   "source": [
    "data = [\n",
    "    pd.read_csv(p, sep='|', header=0, index_col=None)\n",
    "    for p in tqdm(list(Path('.', 'data', 'LDS2', 'train').iterdir()))\n",
    "]\n",
    "\n",
    "data_validation = [\n",
    "    pd.read_csv(p, sep='|', header=0, index_col=None)\n",
    "    for p in tqdm(list(Path('.', 'data', 'LDS2', 'valid').iterdir()))\n",
    "]\n",
    "\n",
    "data_ffill = [d.ffill() for d in tqdm(data)]\n",
    "data_validation_ffill = [d.ffill() for d in tqdm(data_validation)]\n",
    "data_ewm = [\n",
    "    pd.concat([d.ffill(), d.drop('SepsisLabel', axis='columns').ewm(alpha=0.25).mean().add_prefix('ewm_')], axis='columns')\n",
    "    for d in tqdm(data)\n",
    "]\n",
    "data_validation_ewm = [\n",
    "    pd.concat([d.ffill(), d.drop('SepsisLabel', axis='columns').ewm(alpha=0.25).mean().add_prefix('ewm_')], axis='columns')\n",
    "    for d in tqdm(data_validation)\n",
    "]"
   ]
  },
  {
   "cell_type": "code",
   "execution_count": null,
   "id": "d5d68394",
   "metadata": {},
   "outputs": [],
   "source": [
    "# drop_features = ['Unit1', 'Unit2', 'ICULOS',] #'ewm_Unit1', 'ewm_Unit2', 'ewm_ICULOS'] #, 'HospAdmTime', 'ICULOS', 'Age']\n",
    "# random.seed(100)\n",
    "# np.random.seed(100)\n",
    "\n",
    "data_stratify = pd.Series([1 in d.SepsisLabel.values for i, d in enumerate(data_ewm)])\n",
    "data_train, data_test = train_test_split(data_ewm, stratify=data_stratify, shuffle=True)\n",
    "\n",
    "dataset_train = pd.concat(data_train, axis='rows').sample(frac=1)\n",
    "dataset_test = pd.concat(data_test, axis='rows').sample(frac=1)"
   ]
  },
  {
   "cell_type": "code",
   "execution_count": 3,
   "id": "fab30662",
   "metadata": {},
   "outputs": [
    {
     "ename": "NameError",
     "evalue": "name 'dataset_train' is not defined",
     "output_type": "error",
     "traceback": [
      "\u001b[0;31m---------------------------------------------------------------------------\u001b[0m",
      "\u001b[0;31mNameError\u001b[0m                                 Traceback (most recent call last)",
      "\u001b[0;32m<ipython-input-3-3b88c016d626>\u001b[0m in \u001b[0;36m<module>\u001b[0;34m\u001b[0m\n\u001b[0;32m----> 1\u001b[0;31m \u001b[0mdataset_train\u001b[0m\u001b[0;34m.\u001b[0m\u001b[0mhead\u001b[0m\u001b[0;34m(\u001b[0m\u001b[0;34m)\u001b[0m\u001b[0;34m\u001b[0m\u001b[0;34m\u001b[0m\u001b[0m\n\u001b[0m",
      "\u001b[0;31mNameError\u001b[0m: name 'dataset_train' is not defined"
     ]
    }
   ],
   "source": [
    "dataset_train.head()"
   ]
  },
  {
   "cell_type": "markdown",
   "id": "cde11cbf",
   "metadata": {},
   "source": [
    "### Accessibility"
   ]
  },
  {
   "cell_type": "code",
   "execution_count": null,
   "id": "3966e339",
   "metadata": {},
   "outputs": [],
   "source": []
  },
  {
   "cell_type": "code",
   "execution_count": 56,
   "id": "765688c5",
   "metadata": {},
   "outputs": [],
   "source": [
    "df_access = pd.read_excel('./accessibility metrics.xlsx')\n",
    "\n",
    "level3_metrics = df_access[df_access['accessibility'] < 4]['Metric'].to_list()\n",
    "# keep_cols = level3_metrics.append('SepsisLabel')\n",
    "\n",
    "level3_metrics_ewm = [\"ewm_\" + s for s in level3_metrics]\n",
    "\n",
    "all_level3_cols = level3_metrics + level3_metrics_ewm + ['SepsisLabel']\n",
    "\n",
    "# keep_cols = level3_metrics + ['SepsisLabel']\n",
    "\n",
    "dataset_train = dataset_train[all_level3_cols]\n",
    "dataset_test = dataset_test[all_level3_cols]\n"
   ]
  },
  {
   "cell_type": "code",
   "execution_count": 197,
   "id": "81351170",
   "metadata": {},
   "outputs": [],
   "source": [
    "dataset_train = pd.read_csv('./data/LDS2/train/dataset_train.csv')\n",
    "dataset_test = pd.read_csv('./data/LDS2/train/dataset_test.csv')\n",
    "dataset_train = dataset_train.drop('Unnamed: 0', axis=1)\n",
    "dataset_test = dataset_test.drop('Unnamed: 0', axis=1)"
   ]
  },
  {
   "cell_type": "code",
   "execution_count": 199,
   "id": "6b190994",
   "metadata": {},
   "outputs": [],
   "source": [
    "dataset_train = dataset_train.drop('ewm_Gender', axis=1)\n",
    "dataset_train = dataset_train.drop('ewm_Age', axis=1)\n",
    "dataset_test = dataset_test.drop('ewm_Gender', axis=1)\n",
    "dataset_test = dataset_test.drop('ewm_Age', axis=1)"
   ]
  },
  {
   "cell_type": "code",
   "execution_count": 200,
   "id": "a21392f6",
   "metadata": {},
   "outputs": [],
   "source": [
    "X_train = dataset_train.drop('SepsisLabel', axis='columns')\n",
    "y_train = dataset_train['SepsisLabel']\n",
    "\n",
    "X_test = dataset_test.drop('SepsisLabel', axis='columns')\n",
    "y_test = dataset_test['SepsisLabel']"
   ]
  },
  {
   "cell_type": "code",
   "execution_count": 201,
   "id": "d3e3d0d5",
   "metadata": {},
   "outputs": [
    {
     "data": {
      "text/html": [
       "<div>\n",
       "<style scoped>\n",
       "    .dataframe tbody tr th:only-of-type {\n",
       "        vertical-align: middle;\n",
       "    }\n",
       "\n",
       "    .dataframe tbody tr th {\n",
       "        vertical-align: top;\n",
       "    }\n",
       "\n",
       "    .dataframe thead th {\n",
       "        text-align: right;\n",
       "    }\n",
       "</style>\n",
       "<table border=\"1\" class=\"dataframe\">\n",
       "  <thead>\n",
       "    <tr style=\"text-align: right;\">\n",
       "      <th></th>\n",
       "      <th>HR</th>\n",
       "      <th>O2Sat</th>\n",
       "      <th>Temp</th>\n",
       "      <th>SBP</th>\n",
       "      <th>MAP</th>\n",
       "      <th>DBP</th>\n",
       "      <th>Resp</th>\n",
       "      <th>Creatinine</th>\n",
       "      <th>Glucose</th>\n",
       "      <th>Lactate</th>\n",
       "      <th>Potassium</th>\n",
       "      <th>Hct</th>\n",
       "      <th>Hgb</th>\n",
       "      <th>WBC</th>\n",
       "      <th>Platelets</th>\n",
       "      <th>Age</th>\n",
       "      <th>Gender</th>\n",
       "      <th>ewm_HR</th>\n",
       "      <th>ewm_O2Sat</th>\n",
       "      <th>ewm_Temp</th>\n",
       "      <th>ewm_SBP</th>\n",
       "      <th>ewm_MAP</th>\n",
       "      <th>ewm_DBP</th>\n",
       "      <th>ewm_Resp</th>\n",
       "      <th>ewm_Creatinine</th>\n",
       "      <th>ewm_Glucose</th>\n",
       "      <th>ewm_Lactate</th>\n",
       "      <th>ewm_Potassium</th>\n",
       "      <th>ewm_Hct</th>\n",
       "      <th>ewm_Hgb</th>\n",
       "      <th>ewm_WBC</th>\n",
       "      <th>ewm_Platelets</th>\n",
       "    </tr>\n",
       "  </thead>\n",
       "  <tbody>\n",
       "    <tr>\n",
       "      <th>0</th>\n",
       "      <td>71.0</td>\n",
       "      <td>95.0</td>\n",
       "      <td>0.00</td>\n",
       "      <td>131.5</td>\n",
       "      <td>58.00</td>\n",
       "      <td>44.0</td>\n",
       "      <td>26.0</td>\n",
       "      <td>1.777369e-11</td>\n",
       "      <td>0.0</td>\n",
       "      <td>0.000000e+00</td>\n",
       "      <td>0.0</td>\n",
       "      <td>0.0</td>\n",
       "      <td>0.0</td>\n",
       "      <td>1.064860e-21</td>\n",
       "      <td>1.000685e-09</td>\n",
       "      <td>76.54</td>\n",
       "      <td>0.0</td>\n",
       "      <td>74.920227</td>\n",
       "      <td>94.195006</td>\n",
       "      <td>10.315589</td>\n",
       "      <td>136.996010</td>\n",
       "      <td>67.223133</td>\n",
       "      <td>45.428481</td>\n",
       "      <td>24.103773</td>\n",
       "      <td>0.003338</td>\n",
       "      <td>4.358012</td>\n",
       "      <td>0.000000</td>\n",
       "      <td>0.026471</td>\n",
       "      <td>0.330028</td>\n",
       "      <td>0.117243</td>\n",
       "      <td>0.067589</td>\n",
       "      <td>1.209608</td>\n",
       "    </tr>\n",
       "    <tr>\n",
       "      <th>1</th>\n",
       "      <td>82.0</td>\n",
       "      <td>94.0</td>\n",
       "      <td>36.50</td>\n",
       "      <td>100.0</td>\n",
       "      <td>78.00</td>\n",
       "      <td>0.0</td>\n",
       "      <td>22.0</td>\n",
       "      <td>2.002422e-04</td>\n",
       "      <td>0.0</td>\n",
       "      <td>0.000000e+00</td>\n",
       "      <td>0.0</td>\n",
       "      <td>0.0</td>\n",
       "      <td>0.0</td>\n",
       "      <td>8.698582e-05</td>\n",
       "      <td>4.335491e-02</td>\n",
       "      <td>66.98</td>\n",
       "      <td>1.0</td>\n",
       "      <td>77.030537</td>\n",
       "      <td>52.827811</td>\n",
       "      <td>14.844759</td>\n",
       "      <td>97.785833</td>\n",
       "      <td>71.956315</td>\n",
       "      <td>0.974108</td>\n",
       "      <td>21.888060</td>\n",
       "      <td>0.025821</td>\n",
       "      <td>1.996678</td>\n",
       "      <td>0.000000</td>\n",
       "      <td>0.627458</td>\n",
       "      <td>0.695930</td>\n",
       "      <td>0.230684</td>\n",
       "      <td>0.404089</td>\n",
       "      <td>30.571162</td>\n",
       "    </tr>\n",
       "    <tr>\n",
       "      <th>2</th>\n",
       "      <td>102.0</td>\n",
       "      <td>98.0</td>\n",
       "      <td>0.00</td>\n",
       "      <td>137.0</td>\n",
       "      <td>93.00</td>\n",
       "      <td>72.0</td>\n",
       "      <td>15.0</td>\n",
       "      <td>1.853304e-08</td>\n",
       "      <td>0.0</td>\n",
       "      <td>1.868382e-11</td>\n",
       "      <td>0.0</td>\n",
       "      <td>0.0</td>\n",
       "      <td>0.0</td>\n",
       "      <td>1.021520e-02</td>\n",
       "      <td>4.763987e-04</td>\n",
       "      <td>41.61</td>\n",
       "      <td>1.0</td>\n",
       "      <td>93.503214</td>\n",
       "      <td>98.505508</td>\n",
       "      <td>5.545890</td>\n",
       "      <td>125.692965</td>\n",
       "      <td>85.502599</td>\n",
       "      <td>67.679221</td>\n",
       "      <td>18.057693</td>\n",
       "      <td>0.056376</td>\n",
       "      <td>8.697948</td>\n",
       "      <td>0.006450</td>\n",
       "      <td>0.273824</td>\n",
       "      <td>2.335560</td>\n",
       "      <td>0.797312</td>\n",
       "      <td>1.461263</td>\n",
       "      <td>26.998148</td>\n",
       "    </tr>\n",
       "    <tr>\n",
       "      <th>3</th>\n",
       "      <td>84.0</td>\n",
       "      <td>100.0</td>\n",
       "      <td>0.00</td>\n",
       "      <td>116.0</td>\n",
       "      <td>70.00</td>\n",
       "      <td>50.0</td>\n",
       "      <td>18.0</td>\n",
       "      <td>2.134664e-02</td>\n",
       "      <td>0.0</td>\n",
       "      <td>9.787598e-15</td>\n",
       "      <td>0.0</td>\n",
       "      <td>0.0</td>\n",
       "      <td>0.0</td>\n",
       "      <td>4.013603e-03</td>\n",
       "      <td>3.965221e-03</td>\n",
       "      <td>71.74</td>\n",
       "      <td>1.0</td>\n",
       "      <td>85.855012</td>\n",
       "      <td>96.583595</td>\n",
       "      <td>16.735737</td>\n",
       "      <td>127.800291</td>\n",
       "      <td>78.206804</td>\n",
       "      <td>54.964031</td>\n",
       "      <td>17.106720</td>\n",
       "      <td>0.194188</td>\n",
       "      <td>19.565372</td>\n",
       "      <td>0.000578</td>\n",
       "      <td>0.552455</td>\n",
       "      <td>3.589245</td>\n",
       "      <td>1.212513</td>\n",
       "      <td>1.454697</td>\n",
       "      <td>16.224220</td>\n",
       "    </tr>\n",
       "    <tr>\n",
       "      <th>4</th>\n",
       "      <td>76.0</td>\n",
       "      <td>100.0</td>\n",
       "      <td>36.17</td>\n",
       "      <td>159.0</td>\n",
       "      <td>81.67</td>\n",
       "      <td>0.0</td>\n",
       "      <td>10.0</td>\n",
       "      <td>8.501355e-10</td>\n",
       "      <td>0.0</td>\n",
       "      <td>0.000000e+00</td>\n",
       "      <td>0.0</td>\n",
       "      <td>0.0</td>\n",
       "      <td>0.0</td>\n",
       "      <td>4.940448e-07</td>\n",
       "      <td>9.938770e-09</td>\n",
       "      <td>69.65</td>\n",
       "      <td>0.0</td>\n",
       "      <td>78.764178</td>\n",
       "      <td>95.220795</td>\n",
       "      <td>12.573258</td>\n",
       "      <td>150.079016</td>\n",
       "      <td>81.835530</td>\n",
       "      <td>0.000000</td>\n",
       "      <td>13.444515</td>\n",
       "      <td>0.036003</td>\n",
       "      <td>2.584084</td>\n",
       "      <td>0.000000</td>\n",
       "      <td>0.117933</td>\n",
       "      <td>1.076407</td>\n",
       "      <td>0.331270</td>\n",
       "      <td>0.850601</td>\n",
       "      <td>9.634557</td>\n",
       "    </tr>\n",
       "  </tbody>\n",
       "</table>\n",
       "</div>"
      ],
      "text/plain": [
       "      HR  O2Sat   Temp    SBP    MAP   DBP  Resp    Creatinine  Glucose  \\\n",
       "0   71.0   95.0   0.00  131.5  58.00  44.0  26.0  1.777369e-11      0.0   \n",
       "1   82.0   94.0  36.50  100.0  78.00   0.0  22.0  2.002422e-04      0.0   \n",
       "2  102.0   98.0   0.00  137.0  93.00  72.0  15.0  1.853304e-08      0.0   \n",
       "3   84.0  100.0   0.00  116.0  70.00  50.0  18.0  2.134664e-02      0.0   \n",
       "4   76.0  100.0  36.17  159.0  81.67   0.0  10.0  8.501355e-10      0.0   \n",
       "\n",
       "        Lactate  Potassium  Hct  Hgb           WBC     Platelets    Age  \\\n",
       "0  0.000000e+00        0.0  0.0  0.0  1.064860e-21  1.000685e-09  76.54   \n",
       "1  0.000000e+00        0.0  0.0  0.0  8.698582e-05  4.335491e-02  66.98   \n",
       "2  1.868382e-11        0.0  0.0  0.0  1.021520e-02  4.763987e-04  41.61   \n",
       "3  9.787598e-15        0.0  0.0  0.0  4.013603e-03  3.965221e-03  71.74   \n",
       "4  0.000000e+00        0.0  0.0  0.0  4.940448e-07  9.938770e-09  69.65   \n",
       "\n",
       "   Gender     ewm_HR  ewm_O2Sat   ewm_Temp     ewm_SBP    ewm_MAP    ewm_DBP  \\\n",
       "0     0.0  74.920227  94.195006  10.315589  136.996010  67.223133  45.428481   \n",
       "1     1.0  77.030537  52.827811  14.844759   97.785833  71.956315   0.974108   \n",
       "2     1.0  93.503214  98.505508   5.545890  125.692965  85.502599  67.679221   \n",
       "3     1.0  85.855012  96.583595  16.735737  127.800291  78.206804  54.964031   \n",
       "4     0.0  78.764178  95.220795  12.573258  150.079016  81.835530   0.000000   \n",
       "\n",
       "    ewm_Resp  ewm_Creatinine  ewm_Glucose  ewm_Lactate  ewm_Potassium  \\\n",
       "0  24.103773        0.003338     4.358012     0.000000       0.026471   \n",
       "1  21.888060        0.025821     1.996678     0.000000       0.627458   \n",
       "2  18.057693        0.056376     8.697948     0.006450       0.273824   \n",
       "3  17.106720        0.194188    19.565372     0.000578       0.552455   \n",
       "4  13.444515        0.036003     2.584084     0.000000       0.117933   \n",
       "\n",
       "    ewm_Hct   ewm_Hgb   ewm_WBC  ewm_Platelets  \n",
       "0  0.330028  0.117243  0.067589       1.209608  \n",
       "1  0.695930  0.230684  0.404089      30.571162  \n",
       "2  2.335560  0.797312  1.461263      26.998148  \n",
       "3  3.589245  1.212513  1.454697      16.224220  \n",
       "4  1.076407  0.331270  0.850601       9.634557  "
      ]
     },
     "execution_count": 201,
     "metadata": {},
     "output_type": "execute_result"
    }
   ],
   "source": [
    "X_train.head()"
   ]
  },
  {
   "cell_type": "code",
   "execution_count": 137,
   "id": "eec76531",
   "metadata": {},
   "outputs": [],
   "source": [
    "indices = X_train['Gender'] == 1\n",
    "X_train_m = X_train[indices]\n",
    "y_train_m = y_train[indices]\n",
    "\n",
    "indices2 = X_test['Gender'] == 1\n",
    "X_test_m = X_test[indices2]\n",
    "y_test_m = y_test[indices2]\n",
    "\n",
    "indices = X_train['Gender'] == 0\n",
    "X_train_f = X_train[indices]\n",
    "y_train_f = y_train[indices]\n",
    "\n",
    "indices2 = X_test['Gender'] == 0\n",
    "X_test_f = X_test[indices2]\n",
    "y_test_f = y_test[indices2]"
   ]
  },
  {
   "cell_type": "code",
   "execution_count": 241,
   "id": "394e218f",
   "metadata": {},
   "outputs": [
    {
     "name": "stdout",
     "output_type": "stream",
     "text": [
      "[0]\tvalidation_0-auc:0.73812\tvalidation_1-auc:0.68299\n",
      "[1]\tvalidation_0-auc:0.75999\tvalidation_1-auc:0.69221\n",
      "[2]\tvalidation_0-auc:0.76881\tvalidation_1-auc:0.69038\n"
     ]
    },
    {
     "data": {
      "text/plain": [
       "XGBClassifier(base_score=0.5, booster='gbtree', colsample_bylevel=1,\n",
       "              colsample_bynode=1, colsample_bytree=1, gamma=0, gpu_id=-1,\n",
       "              importance_type='gain', interaction_constraints='',\n",
       "              learning_rate=0.300000012, max_delta_step=0, max_depth=6,\n",
       "              min_child_weight=1, missing=nan, monotone_constraints='()',\n",
       "              n_estimators=3, n_jobs=8, num_parallel_tree=1,\n",
       "              objective='reg:logistic', random_state=0, reg_alpha=0,\n",
       "              reg_lambda=1, scale_pos_weight=1, subsample=1,\n",
       "              tree_method='exact', use_label_encoder=False,\n",
       "              validate_parameters=1, verbosity=None)"
      ]
     },
     "execution_count": 241,
     "metadata": {},
     "output_type": "execute_result"
    }
   ],
   "source": [
    "from xgboost import XGBClassifier\n",
    "from sklearn.ensemble import RandomForestClassifier\n",
    "from sklearn.utils import class_weight\n",
    "\n",
    "sample_weight = class_weight.compute_sample_weight(\n",
    "    class_weight='balanced',\n",
    "    y=y_train,\n",
    ")\n",
    "\n",
    "params = {\n",
    "    'objective': 'reg:logistic', \n",
    "    'n_estimators': 3,\n",
    "}\n",
    "\n",
    "model = XGBClassifier(**params, use_label_encoder=False)\n",
    "model.fit(\n",
    "    X_train, y_train, \n",
    "    eval_set=[(X_train, y_train), (X_test, y_test)],\n",
    "    eval_metric='auc',\n",
    "    sample_weight=sample_weight,\n",
    ")"
   ]
  },
  {
   "cell_type": "code",
   "execution_count": 242,
   "id": "c2f83b30",
   "metadata": {},
   "outputs": [
    {
     "data": {
      "text/plain": [
       "<sklearn.metrics._plot.confusion_matrix.ConfusionMatrixDisplay at 0x7f8a2387bd10>"
      ]
     },
     "execution_count": 242,
     "metadata": {},
     "output_type": "execute_result"
    },
    {
     "data": {
      "image/png": "[encoded data removed]",
      "text/plain": [
       "<Figure size 432x288 with 2 Axes>"
      ]
     },
     "metadata": {
      "needs_background": "light"
     },
     "output_type": "display_data"
    }
   ],
   "source": [
    "from sklearn.metrics import plot_confusion_matrix\n",
    "plot_confusion_matrix(model, X_test, y_test, normalize='true')"
   ]
  },
  {
   "cell_type": "code",
   "execution_count": 255,
   "id": "124f2646",
   "metadata": {},
   "outputs": [
    {
     "data": {
      "text/plain": [
       "Index(['HR', 'O2Sat', 'Temp', 'SBP', 'MAP', 'DBP', 'Resp', 'Creatinine',\n",
       "       'Glucose', 'Lactate', 'Potassium', 'Hct', 'Hgb', 'WBC', 'Platelets',\n",
       "       'Age', 'Gender', 'ewm_HR', 'ewm_O2Sat', 'ewm_Temp', 'ewm_SBP',\n",
       "       'ewm_MAP', 'ewm_DBP', 'ewm_Resp', 'ewm_Creatinine', 'ewm_Glucose',\n",
       "       'ewm_Lactate', 'ewm_Potassium', 'ewm_Hct', 'ewm_Hgb', 'ewm_WBC',\n",
       "       'ewm_Platelets'],\n",
       "      dtype='object')"
      ]
     },
     "execution_count": 255,
     "metadata": {},
     "output_type": "execute_result"
    }
   ],
   "source": [
    "X_test.columns"
   ]
  },
  {
   "cell_type": "code",
   "execution_count": 210,
   "id": "bbe577c2",
   "metadata": {},
   "outputs": [],
   "source": [
    "validation_dataset = pd.read_csv('./data/LDS2/valid/validation_dataset.csv')\n",
    "# validation_dataset = pd.concat(data_validation_ewm, axis='rows')\n",
    "X_valid = validation_dataset.drop('SepsisLabel', axis='columns')\n",
    "y_valid = validation_dataset['SepsisLabel']"
   ]
  },
  {
   "cell_type": "code",
   "execution_count": null,
   "id": "1c575925",
   "metadata": {},
   "outputs": [],
   "source": []
  },
  {
   "cell_type": "code",
   "execution_count": 212,
   "id": "7a5a6f7b",
   "metadata": {},
   "outputs": [],
   "source": [
    "X_valid = X_valid[level3_metrics + level3_metrics_ewm]"
   ]
  },
  {
   "cell_type": "code",
   "execution_count": 213,
   "id": "11fd6bcc",
   "metadata": {},
   "outputs": [],
   "source": [
    "X_valid = X_valid.drop('ewm_Gender', axis=1)\n",
    "X_valid = X_valid.drop('ewm_Age', axis=1)"
   ]
  },
  {
   "cell_type": "code",
   "execution_count": 244,
   "id": "8de26927",
   "metadata": {},
   "outputs": [
    {
     "data": {
      "text/plain": [
       "<sklearn.metrics._plot.confusion_matrix.ConfusionMatrixDisplay at 0x7f8a12d1ed90>"
      ]
     },
     "execution_count": 244,
     "metadata": {},
     "output_type": "execute_result"
    },
    {
     "data": {
      "image/png": "[encoded data removed]",
      "text/plain": [
       "<Figure size 432x288 with 2 Axes>"
      ]
     },
     "metadata": {
      "needs_background": "light"
     },
     "output_type": "display_data"
    }
   ],
   "source": [
    "plot_confusion_matrix(model, X_valid, y_valid, normalize='true')"
   ]
  },
  {
   "cell_type": "code",
   "execution_count": 195,
   "id": "67d5a44c",
   "metadata": {},
   "outputs": [
    {
     "data": {
      "text/plain": [
       "((414351, 34), (117904, 34), (138752, 34))"
      ]
     },
     "execution_count": 195,
     "metadata": {},
     "output_type": "execute_result"
    }
   ],
   "source": [
    "X_train.shape, X_valid.shape, X_test.shape"
   ]
  },
  {
   "cell_type": "code",
   "execution_count": null,
   "id": "b4a5943d",
   "metadata": {},
   "outputs": [],
   "source": []
  },
  {
   "cell_type": "code",
   "execution_count": null,
   "id": "6dcfa1ea",
   "metadata": {},
   "outputs": [],
   "source": []
  },
  {
   "cell_type": "code",
   "execution_count": 264,
   "id": "37de48fc",
   "metadata": {},
   "outputs": [
    {
     "data": {
      "text/plain": [
       "LogisticRegression(max_iter=2000)"
      ]
     },
     "execution_count": 264,
     "metadata": {},
     "output_type": "execute_result"
    }
   ],
   "source": [
    "from sklearn.linear_model import LogisticRegression\n",
    "lr = LogisticRegression(max_iter=2000)\n",
    "lr.fit(X_train, y_train, sample_weight=sample_weight)"
   ]
  },
  {
   "cell_type": "code",
   "execution_count": 265,
   "id": "bff0c2ee",
   "metadata": {},
   "outputs": [
    {
     "data": {
      "text/plain": [
       "<sklearn.metrics._plot.confusion_matrix.ConfusionMatrixDisplay at 0x7f8a1367c190>"
      ]
     },
     "execution_count": 265,
     "metadata": {},
     "output_type": "execute_result"
    },
    {
     "data": {
      "image/png": "[encoded data removed]",
      "text/plain": [
       "<Figure size 432x288 with 2 Axes>"
      ]
     },
     "metadata": {
      "needs_background": "light"
     },
     "output_type": "display_data"
    },
    {
     "data": {
      "image/png": "[encoded data removed]",
      "text/plain": [
       "<Figure size 432x288 with 2 Axes>"
      ]
     },
     "metadata": {
      "needs_background": "light"
     },
     "output_type": "display_data"
    }
   ],
   "source": [
    "plot_confusion_matrix(lr, X_test, y_test, normalize='true')\n",
    "plot_confusion_matrix(lr, X_valid, y_valid, normalize='true')"
   ]
  },
  {
   "cell_type": "code",
   "execution_count": null,
   "id": "7481d292",
   "metadata": {},
   "outputs": [],
   "source": []
  },
  {
   "cell_type": "code",
   "execution_count": null,
   "id": "d97084fa",
   "metadata": {},
   "outputs": [],
   "source": []
  },
  {
   "cell_type": "code",
   "execution_count": null,
   "id": "3073b971",
   "metadata": {},
   "outputs": [],
   "source": []
  },
  {
   "cell_type": "code",
   "execution_count": null,
   "id": "588a3a2e",
   "metadata": {},
   "outputs": [],
   "source": []
  }
 ],
 "metadata": {
  "kernelspec": {
   "display_name": "Python 3",
   "language": "python",
   "name": "python3"
  },
  "language_info": {
   "codemirror_mode": {
    "name": "ipython",
    "version": 3
   },
   "file_extension": ".py",
   "mimetype": "text/x-python",
   "name": "python",
   "nbconvert_exporter": "python",
   "pygments_lexer": "ipython3",
   "version": "3.7.6"
  }
 },
 "nbformat": 4,
 "nbformat_minor": 5
}
